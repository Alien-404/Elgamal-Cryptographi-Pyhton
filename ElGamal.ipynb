{
  "nbformat": 4,
  "nbformat_minor": 0,
  "metadata": {
    "colab": {
      "name": "ElGamal.ipynb",
      "provenance": []
    },
    "kernelspec": {
      "name": "python3",
      "display_name": "Python 3"
    },
    "language_info": {
      "name": "python"
    }
  },
  "cells": [
    {
      "cell_type": "code",
      "execution_count": 2,
      "metadata": {
        "id": "xkN-KBELM0SN"
      },
      "outputs": [],
      "source": [
        "# Import module\n",
        "import random\n",
        "from math import pow"
      ]
    },
    {
      "cell_type": "code",
      "source": [
        "# get logic key\n",
        "a = random.randint(2, 10)\n",
        "\n",
        "def gcd(a, b):\n",
        "\tif a < b:\n",
        "\t\treturn gcd(b, a)\n",
        "\telif a % b == 0:\n",
        "\t\treturn b;\n",
        "\telse:\n",
        "\t\treturn gcd(b, a % b)"
      ],
      "metadata": {
        "id": "f9-LmRbNNByN"
      },
      "execution_count": 3,
      "outputs": []
    },
    {
      "cell_type": "code",
      "source": [
        "# Generating large random numbers\n",
        "def gen_key(q):\n",
        "\n",
        "\tkey = random.randint(pow(10, 20), q)\n",
        "\twhile gcd(q, key) != 1:\n",
        "\t\tkey = random.randint(pow(10, 20), q)\n",
        "\n",
        "\treturn key"
      ],
      "metadata": {
        "id": "DZwa_QZhNIKT"
      },
      "execution_count": 4,
      "outputs": []
    },
    {
      "cell_type": "code",
      "source": [
        "# Modular exponentiation\n",
        "def power(a, b, c):\n",
        "\tx = 1\n",
        "\ty = a\n",
        "\n",
        "\twhile b > 0:\n",
        "\t\tif b % 2 != 0:\n",
        "\t\t\tx = (x * y) % c;\n",
        "\t\ty = (y * y) % c\n",
        "\t\tb = int(b / 2)\n",
        "\n",
        "\treturn x % c"
      ],
      "metadata": {
        "id": "bhuwxfwBNT-V"
      },
      "execution_count": 5,
      "outputs": []
    },
    {
      "cell_type": "code",
      "source": [
        "# encryption\n",
        "def encrypt(msg, q, h, g):\n",
        "\n",
        "\ten_msg = []\n",
        "\n",
        "\tk = gen_key(q)# Private key for sender\n",
        "\ts = power(h, k, q)\n",
        "\tp = power(g, k, q)\n",
        "\t\n",
        "\tfor i in range(0, len(msg)):\n",
        "\t\ten_msg.append(msg[i])\n",
        "\n",
        "\tprint(\"g^k used : \", p)\n",
        "\tprint(\"g^ak used : \", s)\n",
        "\tfor i in range(0, len(en_msg)):\n",
        "\t\ten_msg[i] = s * ord(en_msg[i])\n",
        "\n",
        "\treturn en_msg, p"
      ],
      "metadata": {
        "id": "42Fyv9RJNZBH"
      },
      "execution_count": 6,
      "outputs": []
    },
    {
      "cell_type": "code",
      "source": [
        "# decrypt\n",
        "def decrypt(en_msg, p, key, q):\n",
        "\n",
        "\tdr_msg = []\n",
        "\th = power(p, key, q)\n",
        "\tfor i in range(0, len(en_msg)):\n",
        "\t\tdr_msg.append(chr(int(en_msg[i]/h)))\n",
        "\t\t\n",
        "\treturn dr_msg"
      ],
      "metadata": {
        "id": "NCzpQGFrNcsf"
      },
      "execution_count": 7,
      "outputs": []
    },
    {
      "cell_type": "code",
      "source": [
        "# Driver code\n",
        "def main():\n",
        " \n",
        "    msg = 'pesan ini akan di encrypt'\n",
        "    print(\"Original Message :\", msg)\n",
        " \n",
        "    q = random.randint(pow(10, 20), pow(10, 50))\n",
        "    g = random.randint(2, q)\n",
        " \n",
        "    key = gen_key(q)\n",
        "    h = power(g, key, q)\n",
        "    print(\"g key encrypt : \", g)\n",
        "\n",
        " \n",
        "if __name__ == '__main__':\n",
        "    main()"
      ],
      "metadata": {
        "colab": {
          "base_uri": "https://localhost:8080/"
        },
        "id": "1CAgNLeqNhOw",
        "outputId": "39242de1-20a2-44e0-81a6-f1e7beee1e29"
      },
      "execution_count": 11,
      "outputs": [
        {
          "output_type": "stream",
          "name": "stdout",
          "text": [
            "Original Message : pesan ini akan di encrypt\n",
            "g key encrypt :  46481080957955470549014775134571605779101975738060\n"
          ]
        }
      ]
    }
  ]
}